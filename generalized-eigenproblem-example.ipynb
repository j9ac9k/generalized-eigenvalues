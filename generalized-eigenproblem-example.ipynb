{
 "cells": [
  {
   "cell_type": "code",
   "execution_count": 1,
   "metadata": {
    "collapsed": true
   },
   "outputs": [],
   "source": [
    "import numpy as np"
   ]
  },
  {
   "cell_type": "markdown",
   "metadata": {},
   "source": [
    "Following this exposition:\n",
    "\n",
    "http://fourier.eng.hmc.edu/e161/lectures/algebra/node7.html"
   ]
  },
  {
   "cell_type": "code",
   "execution_count": 2,
   "metadata": {
    "collapsed": true
   },
   "outputs": [],
   "source": [
    "A = np.array(\n",
    "    [[ 26167692.,  -8722564.,         0., -17445128.,         0.],\n",
    "    [ -8722564.,  43612820.,         0., -17445128.,         0.],\n",
    "    [        0.,         0.,         0.,         0.,         0.],\n",
    "    [-17445128., -17445128.,         0.,  43612820.,         0.],\n",
    "    [        0.,         0.,         0.,         0.,         0.]])"
   ]
  },
  {
   "cell_type": "code",
   "execution_count": 3,
   "metadata": {
    "collapsed": true
   },
   "outputs": [],
   "source": [
    "B = np.array(\n",
    "    [[342.360637  , 114.12021233,   0.        ,  57.06010617, 0.        ],\n",
    "    [114.12021233, 456.48084933,   0.        ,  57.06010617, 0.        ],\n",
    "    [  0.        ,   0.        , 456.48084933,   0.        , 57.06010617],\n",
    "    [ 57.06010617,  57.06010617,   0.        , 456.48084933,  0.        ],\n",
    "    [  0.        ,   0.        ,  57.06010617,   0.        ,456.48084933]])"
   ]
  },
  {
   "cell_type": "markdown",
   "metadata": {},
   "source": [
    "Solve the Eigenvalue problem for B."
   ]
  },
  {
   "cell_type": "code",
   "execution_count": 4,
   "metadata": {
    "collapsed": true
   },
   "outputs": [],
   "source": [
    "B_evalues, B_evectors = np.linalg.eig(B)"
   ]
  },
  {
   "cell_type": "markdown",
   "metadata": {},
   "source": [
    "Check."
   ]
  },
  {
   "cell_type": "code",
   "execution_count": 5,
   "metadata": {},
   "outputs": [
    {
     "data": {
      "text/plain": [
       "array([[  1.00000000e+00,   3.21151247e-17,   1.22671915e-16,\n",
       "         -8.91864294e-17,  -2.95770560e-16],\n",
       "       [  3.21151247e-17,   1.00000000e+00,  -2.07372726e-17,\n",
       "          6.33719977e-17,   4.24692842e-17],\n",
       "       [  1.22671915e-16,  -2.07372726e-17,   1.00000000e+00,\n",
       "          9.55400436e-15,  -8.86498157e-16],\n",
       "       [ -8.91864294e-17,   6.33719977e-17,   9.55400436e-15,\n",
       "          1.00000000e+00,  -1.79380389e-16],\n",
       "       [ -2.95770560e-16,   4.24692842e-17,  -8.86498157e-16,\n",
       "         -1.79380389e-16,   1.00000000e+00]])"
      ]
     },
     "execution_count": 5,
     "metadata": {},
     "output_type": "execute_result"
    }
   ],
   "source": [
    "B_evectors.T @ B_evectors"
   ]
  },
  {
   "cell_type": "markdown",
   "metadata": {},
   "source": [
    "Define $\\Phi^{'}_B$"
   ]
  },
  {
   "cell_type": "code",
   "execution_count": 6,
   "metadata": {
    "collapsed": true
   },
   "outputs": [],
   "source": [
    "phi_B_prime = B_evectors @ np.diag(1 / np.sqrt(B_evalues))"
   ]
  },
  {
   "cell_type": "markdown",
   "metadata": {},
   "source": [
    "Check."
   ]
  },
  {
   "cell_type": "code",
   "execution_count": 7,
   "metadata": {},
   "outputs": [
    {
     "data": {
      "text/plain": [
       "array([[  1.00000000e+00,  -4.24867176e-16,   8.43560572e-17,\n",
       "         -1.07302789e-16,  -3.13830351e-16],\n",
       "       [ -3.69453508e-16,   1.00000000e+00,  -1.19209756e-16,\n",
       "          5.20760256e-17,   3.07781945e-17],\n",
       "       [ -3.09899213e-17,  -1.00979270e-16,   1.00000000e+00,\n",
       "          9.64936560e-15,  -7.89621434e-16],\n",
       "       [ -1.07302789e-16,   5.20760256e-17,   9.64936560e-15,\n",
       "          1.00000000e+00,  -5.89374392e-17],\n",
       "       [ -3.13830351e-16,   3.07781945e-17,  -7.89621434e-16,\n",
       "          4.58211201e-17,   1.00000000e+00]])"
      ]
     },
     "execution_count": 7,
     "metadata": {},
     "output_type": "execute_result"
    }
   ],
   "source": [
    "phi_B_prime.T @ B @ phi_B_prime"
   ]
  },
  {
   "cell_type": "markdown",
   "metadata": {},
   "source": [
    "Apply the same transformation to $A$."
   ]
  },
  {
   "cell_type": "code",
   "execution_count": 8,
   "metadata": {
    "collapsed": true
   },
   "outputs": [],
   "source": [
    "A_prime = phi_B_prime.T @ A @ phi_B_prime"
   ]
  },
  {
   "cell_type": "markdown",
   "metadata": {},
   "source": [
    "Diagonalize $A'$."
   ]
  },
  {
   "cell_type": "code",
   "execution_count": 9,
   "metadata": {
    "collapsed": true
   },
   "outputs": [],
   "source": [
    "A_prime_evalues, A_prime_evectors = np.linalg.eig(A_prime)"
   ]
  },
  {
   "cell_type": "markdown",
   "metadata": {},
   "source": [
    "Define $\\Phi$."
   ]
  },
  {
   "cell_type": "code",
   "execution_count": 10,
   "metadata": {
    "collapsed": true
   },
   "outputs": [],
   "source": [
    "phi = B_evectors @ np.diag(1 / np.sqrt(B_evalues)) @ A_prime_evectors"
   ]
  },
  {
   "cell_type": "markdown",
   "metadata": {},
   "source": [
    "$\\Phi$ also diagonalizes B?"
   ]
  },
  {
   "cell_type": "code",
   "execution_count": 11,
   "metadata": {},
   "outputs": [
    {
     "data": {
      "text/plain": [
       "array([[  1.00000000e+00,  -3.26177827e-16,   5.35777506e-19,\n",
       "         -7.23930150e-16,  -5.37335533e-16],\n",
       "       [ -2.57280002e-16,   1.00000000e+00,   2.55803612e-06,\n",
       "         -1.42947879e-15,  -9.47972793e-16],\n",
       "       [ -4.55477178e-17,   2.55803612e-06,   1.00000000e+00,\n",
       "          9.06569060e-15,   7.32890428e-15],\n",
       "       [ -7.23930150e-16,  -1.42947879e-15,   9.06569060e-15,\n",
       "          1.00000000e+00,   5.34987404e-01],\n",
       "       [ -5.37335533e-16,  -9.47972793e-16,   7.32890428e-15,\n",
       "          5.34987404e-01,   1.00000000e+00]])"
      ]
     },
     "execution_count": 11,
     "metadata": {},
     "output_type": "execute_result"
    }
   ],
   "source": [
    "phi.T @ B @ phi"
   ]
  },
  {
   "cell_type": "markdown",
   "metadata": {},
   "source": [
    "$\\Phi$ is the solution."
   ]
  },
  {
   "cell_type": "code",
   "execution_count": 12,
   "metadata": {},
   "outputs": [
    {
     "data": {
      "text/plain": [
       "array([[  1.83683188e+05,   1.60395552e+06,   1.02120583e+06,\n",
       "          8.74314534e-16,  -3.02464843e-15],\n",
       "       [  1.83683188e+05,  -2.01778267e+06,   1.48688775e+06,\n",
       "          9.00820213e-16,  -4.52455787e-15],\n",
       "       [  0.00000000e+00,   0.00000000e+00,   0.00000000e+00,\n",
       "          0.00000000e+00,   0.00000000e+00],\n",
       "       [  1.83683188e+05,  -3.19653445e+05,  -2.48598535e+06,\n",
       "         -1.82845168e-15,   7.53960073e-15],\n",
       "       [  0.00000000e+00,   0.00000000e+00,   0.00000000e+00,\n",
       "          0.00000000e+00,   0.00000000e+00]])"
      ]
     },
     "execution_count": 12,
     "metadata": {},
     "output_type": "execute_result"
    }
   ],
   "source": [
    "A @ phi"
   ]
  },
  {
   "cell_type": "code",
   "execution_count": 13,
   "metadata": {},
   "outputs": [
    {
     "data": {
      "text/plain": [
       "array([[  1.83683188e+05,   1.60395552e+06,   1.02120583e+06,\n",
       "         -1.61926793e-41,  -1.25012514e-39],\n",
       "       [  1.83683188e+05,  -2.01778267e+06,   1.48688775e+06,\n",
       "         -1.66964349e-41,  -1.92893641e-39],\n",
       "       [ -1.14378467e-10,  -2.16050457e-09,   1.85267732e-08,\n",
       "         -1.97997899e-20,   1.43579923e-18],\n",
       "       [  1.83683188e+05,  -3.19653445e+05,  -2.48598535e+06,\n",
       "          3.51749354e-41,   3.53091773e-39],\n",
       "       [  1.64627557e-10,   3.89594604e-09,  -2.24936646e-08,\n",
       "          5.58942435e-20,  -1.68899184e-19]])"
      ]
     },
     "execution_count": 13,
     "metadata": {},
     "output_type": "execute_result"
    }
   ],
   "source": [
    "B @ phi @ np.diag(A_prime_evalues)"
   ]
  }
 ],
 "metadata": {
  "kernelspec": {
   "display_name": "Python 3",
   "language": "python",
   "name": "python3"
  },
  "language_info": {
   "codemirror_mode": {
    "name": "ipython",
    "version": 3
   },
   "file_extension": ".py",
   "mimetype": "text/x-python",
   "name": "python",
   "nbconvert_exporter": "python",
   "pygments_lexer": "ipython3",
   "version": "3.6.3"
  }
 },
 "nbformat": 4,
 "nbformat_minor": 2
}
